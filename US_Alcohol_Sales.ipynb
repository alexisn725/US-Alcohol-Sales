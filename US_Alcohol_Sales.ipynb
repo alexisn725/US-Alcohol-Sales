{
 "cells": [
  {
   "cell_type": "code",
   "execution_count": 1,
   "id": "def7e206",
   "metadata": {},
   "outputs": [],
   "source": [
    "# \"I'm going to breakdown alcohol sales by state in the US, \n",
    "# and find out which type of alcohol is the most popular for \n",
    "# each state.  state, alcohol type, and sales. Then I'll create graphs using matplotlib\n",
    "# that show the total alcohol sales by state and the type of alcohol that is most popular for each one.\n"
   ]
  },
  {
   "cell_type": "code",
   "execution_count": 2,
   "id": "44e20935",
   "metadata": {},
   "outputs": [],
   "source": [
    "#import all of your modules\n",
    "\n",
    "import pandas as pd\n",
    "import matplotlib as mpl\n",
    "import matplotlib.pyplot as plt\n",
    "import numpy as np"
   ]
  },
  {
   "cell_type": "code",
   "execution_count": 3,
   "id": "d75ba1f6",
   "metadata": {},
   "outputs": [
    {
     "name": "stdout",
     "output_type": "stream",
     "text": [
      "      Year  Month  FIPS  Beverage    Gallons  Ethanol  Population  PerCapita  \\\n",
      "0     2017      1     2         1   103645.0    42598      594304     0.0717   \n",
      "1     2017      1     8         1   733857.0   301615     4639112     0.0650   \n",
      "2     2017      1     9         1   412100.0   169373     3017061     0.0561   \n",
      "3     2017      1    10         1   180388.0    74139      800398     0.0926   \n",
      "4     2017      1    12         1  2770686.0  1138752    17733837     0.0642   \n",
      "...    ...    ...   ...       ...        ...      ...         ...        ...   \n",
      "2907  2021      8    27         4        NaN  1248935     4652447     0.2684   \n",
      "2908  2021      8    29         4        NaN  1212586     5093948     0.2380   \n",
      "2909  2021      8    38         4        NaN   187757      620677     0.3025   \n",
      "2910  2021      8    47         4        NaN  1173051     5718921     0.2051   \n",
      "2911  2021      8    48         4        NaN  4585911    23608900     0.1942   \n",
      "\n",
      "      PerCapita3yr  PctChange  \n",
      "0              NaN        NaN  \n",
      "1              NaN        NaN  \n",
      "2              NaN        NaN  \n",
      "3              NaN        NaN  \n",
      "4              NaN        NaN  \n",
      "...            ...        ...  \n",
      "2907        0.2577     0.0416  \n",
      "2908        0.2236     0.0646  \n",
      "2909        0.2730     0.1082  \n",
      "2910        0.1785     0.1491  \n",
      "2911        0.1938     0.0023  \n",
      "\n",
      "[2912 rows x 10 columns]\n"
     ]
    }
   ],
   "source": [
    "#read in local csv file and create dataframe; I've named it 'df' to keep it simple\n",
    "\n",
    "df = pd.read_csv('Data-Table1.csv')\n",
    "\n",
    "print(df)"
   ]
  },
  {
   "cell_type": "code",
   "execution_count": 4,
   "id": "c68c20af",
   "metadata": {},
   "outputs": [
    {
     "data": {
      "text/html": [
       "<div>\n",
       "<style scoped>\n",
       "    .dataframe tbody tr th:only-of-type {\n",
       "        vertical-align: middle;\n",
       "    }\n",
       "\n",
       "    .dataframe tbody tr th {\n",
       "        vertical-align: top;\n",
       "    }\n",
       "\n",
       "    .dataframe thead th {\n",
       "        text-align: right;\n",
       "    }\n",
       "</style>\n",
       "<table border=\"1\" class=\"dataframe\">\n",
       "  <thead>\n",
       "    <tr style=\"text-align: right;\">\n",
       "      <th></th>\n",
       "      <th>Year</th>\n",
       "      <th>Month</th>\n",
       "      <th>FIPS</th>\n",
       "      <th>Beverage</th>\n",
       "      <th>Gallons</th>\n",
       "      <th>Ethanol</th>\n",
       "      <th>Population</th>\n",
       "      <th>PerCapita</th>\n",
       "      <th>PerCapita3yr</th>\n",
       "      <th>PctChange</th>\n",
       "    </tr>\n",
       "  </thead>\n",
       "  <tbody>\n",
       "    <tr>\n",
       "      <th>0</th>\n",
       "      <td>2017</td>\n",
       "      <td>1</td>\n",
       "      <td>2</td>\n",
       "      <td>1</td>\n",
       "      <td>103645.0</td>\n",
       "      <td>42598</td>\n",
       "      <td>594304</td>\n",
       "      <td>0.0717</td>\n",
       "      <td>NaN</td>\n",
       "      <td>NaN</td>\n",
       "    </tr>\n",
       "    <tr>\n",
       "      <th>1</th>\n",
       "      <td>2017</td>\n",
       "      <td>1</td>\n",
       "      <td>8</td>\n",
       "      <td>1</td>\n",
       "      <td>733857.0</td>\n",
       "      <td>301615</td>\n",
       "      <td>4639112</td>\n",
       "      <td>0.0650</td>\n",
       "      <td>NaN</td>\n",
       "      <td>NaN</td>\n",
       "    </tr>\n",
       "    <tr>\n",
       "      <th>2</th>\n",
       "      <td>2017</td>\n",
       "      <td>1</td>\n",
       "      <td>9</td>\n",
       "      <td>1</td>\n",
       "      <td>412100.0</td>\n",
       "      <td>169373</td>\n",
       "      <td>3017061</td>\n",
       "      <td>0.0561</td>\n",
       "      <td>NaN</td>\n",
       "      <td>NaN</td>\n",
       "    </tr>\n",
       "    <tr>\n",
       "      <th>3</th>\n",
       "      <td>2017</td>\n",
       "      <td>1</td>\n",
       "      <td>10</td>\n",
       "      <td>1</td>\n",
       "      <td>180388.0</td>\n",
       "      <td>74139</td>\n",
       "      <td>800398</td>\n",
       "      <td>0.0926</td>\n",
       "      <td>NaN</td>\n",
       "      <td>NaN</td>\n",
       "    </tr>\n",
       "    <tr>\n",
       "      <th>4</th>\n",
       "      <td>2017</td>\n",
       "      <td>1</td>\n",
       "      <td>12</td>\n",
       "      <td>1</td>\n",
       "      <td>2770686.0</td>\n",
       "      <td>1138752</td>\n",
       "      <td>17733837</td>\n",
       "      <td>0.0642</td>\n",
       "      <td>NaN</td>\n",
       "      <td>NaN</td>\n",
       "    </tr>\n",
       "  </tbody>\n",
       "</table>\n",
       "</div>"
      ],
      "text/plain": [
       "   Year  Month  FIPS  Beverage    Gallons  Ethanol  Population  PerCapita  \\\n",
       "0  2017      1     2         1   103645.0    42598      594304     0.0717   \n",
       "1  2017      1     8         1   733857.0   301615     4639112     0.0650   \n",
       "2  2017      1     9         1   412100.0   169373     3017061     0.0561   \n",
       "3  2017      1    10         1   180388.0    74139      800398     0.0926   \n",
       "4  2017      1    12         1  2770686.0  1138752    17733837     0.0642   \n",
       "\n",
       "   PerCapita3yr  PctChange  \n",
       "0           NaN        NaN  \n",
       "1           NaN        NaN  \n",
       "2           NaN        NaN  \n",
       "3           NaN        NaN  \n",
       "4           NaN        NaN  "
      ]
     },
     "execution_count": 4,
     "metadata": {},
     "output_type": "execute_result"
    }
   ],
   "source": [
    "# run the pandas.DataFrame.head to get a quick idea of what it looks like\n",
    "\n",
    "df.head()"
   ]
  },
  {
   "cell_type": "code",
   "execution_count": 5,
   "id": "8d6d2288",
   "metadata": {},
   "outputs": [
    {
     "data": {
      "text/plain": [
       "pandas.core.frame.DataFrame"
      ]
     },
     "execution_count": 5,
     "metadata": {},
     "output_type": "execute_result"
    }
   ],
   "source": [
    "# looking at type verifies that we have indeed created a DataFrame\n",
    "\n",
    "type(df)"
   ]
  },
  {
   "cell_type": "code",
   "execution_count": 6,
   "id": "6e5c4e6e",
   "metadata": {
    "scrolled": true
   },
   "outputs": [
    {
     "name": "stdout",
     "output_type": "stream",
     "text": [
      "Year              int64\n",
      "Month             int64\n",
      "FIPS              int64\n",
      "Beverage          int64\n",
      "Gallons         float64\n",
      "Ethanol           int64\n",
      "Population        int64\n",
      "PerCapita       float64\n",
      "PerCapita3yr    float64\n",
      "PctChange       float64\n",
      "dtype: object\n"
     ]
    }
   ],
   "source": [
    "# Let's print the data types of the columns in the data set\n",
    "\n",
    "print(df.dtypes)"
   ]
  },
  {
   "cell_type": "markdown",
   "id": "b5d3dcc6",
   "metadata": {},
   "source": [
    "<h1> Data Clean Up </h1>"
   ]
  },
  {
   "cell_type": "code",
   "execution_count": 7,
   "id": "eb52eb82",
   "metadata": {},
   "outputs": [
    {
     "name": "stdout",
     "output_type": "stream",
     "text": [
      "      Year  Month  FIPS  Beverage    Gallons  Ethanol  Population  PerCapita  \\\n",
      "1248  2019      1     2         1   112835.0    46375      591039     0.0785   \n",
      "1249  2019      1     8         1   889500.0   365585     4791946     0.0763   \n",
      "1250  2019      1     9         1   614817.0   252690     3019599     0.0837   \n",
      "1251  2019      1    10         1   210789.0    86634      818920     0.1058   \n",
      "1252  2019      1    12         1  3281500.0  1348697    18218901     0.0740   \n",
      "...    ...    ...   ...       ...        ...      ...         ...        ...   \n",
      "2907  2021      8    27         4        NaN  1248935     4652447     0.2684   \n",
      "2908  2021      8    29         4        NaN  1212586     5093948     0.2380   \n",
      "2909  2021      8    38         4        NaN   187757      620677     0.3025   \n",
      "2910  2021      8    47         4        NaN  1173051     5718921     0.2051   \n",
      "2911  2021      8    48         4        NaN  4585911    23608900     0.1942   \n",
      "\n",
      "      PerCapita3yr  PctChange  \n",
      "1248           NaN        NaN  \n",
      "1249           NaN        NaN  \n",
      "1250           NaN        NaN  \n",
      "1251           NaN        NaN  \n",
      "1252           NaN        NaN  \n",
      "...            ...        ...  \n",
      "2907        0.2577     0.0416  \n",
      "2908        0.2236     0.0646  \n",
      "2909        0.2730     0.1082  \n",
      "2910        0.1785     0.1491  \n",
      "2911        0.1938     0.0023  \n",
      "\n",
      "[1664 rows x 10 columns]\n"
     ]
    }
   ],
   "source": [
    "# We can sort out the rows for the years that we want to focus on, 2019 - 2021, using the \n",
    "# pandas.DataFrame.isin method\n",
    "\n",
    "df = df[~df['Year'].isin([2017, 2018])]\n",
    "print(df)"
   ]
  },
  {
   "cell_type": "code",
   "execution_count": 8,
   "id": "676218ea",
   "metadata": {},
   "outputs": [
    {
     "data": {
      "text/html": [
       "<div>\n",
       "<style scoped>\n",
       "    .dataframe tbody tr th:only-of-type {\n",
       "        vertical-align: middle;\n",
       "    }\n",
       "\n",
       "    .dataframe tbody tr th {\n",
       "        vertical-align: top;\n",
       "    }\n",
       "\n",
       "    .dataframe thead th {\n",
       "        text-align: right;\n",
       "    }\n",
       "</style>\n",
       "<table border=\"1\" class=\"dataframe\">\n",
       "  <thead>\n",
       "    <tr style=\"text-align: right;\">\n",
       "      <th></th>\n",
       "      <th>Year</th>\n",
       "      <th>Month</th>\n",
       "      <th>FIPS</th>\n",
       "      <th>Beverage</th>\n",
       "      <th>Gallons</th>\n",
       "      <th>Ethanol</th>\n",
       "      <th>Population</th>\n",
       "      <th>PerCapita</th>\n",
       "    </tr>\n",
       "  </thead>\n",
       "  <tbody>\n",
       "    <tr>\n",
       "      <th>1248</th>\n",
       "      <td>2019</td>\n",
       "      <td>1</td>\n",
       "      <td>2</td>\n",
       "      <td>1</td>\n",
       "      <td>112835.0</td>\n",
       "      <td>46375</td>\n",
       "      <td>591039</td>\n",
       "      <td>0.0785</td>\n",
       "    </tr>\n",
       "    <tr>\n",
       "      <th>1249</th>\n",
       "      <td>2019</td>\n",
       "      <td>1</td>\n",
       "      <td>8</td>\n",
       "      <td>1</td>\n",
       "      <td>889500.0</td>\n",
       "      <td>365585</td>\n",
       "      <td>4791946</td>\n",
       "      <td>0.0763</td>\n",
       "    </tr>\n",
       "    <tr>\n",
       "      <th>1250</th>\n",
       "      <td>2019</td>\n",
       "      <td>1</td>\n",
       "      <td>9</td>\n",
       "      <td>1</td>\n",
       "      <td>614817.0</td>\n",
       "      <td>252690</td>\n",
       "      <td>3019599</td>\n",
       "      <td>0.0837</td>\n",
       "    </tr>\n",
       "    <tr>\n",
       "      <th>1251</th>\n",
       "      <td>2019</td>\n",
       "      <td>1</td>\n",
       "      <td>10</td>\n",
       "      <td>1</td>\n",
       "      <td>210789.0</td>\n",
       "      <td>86634</td>\n",
       "      <td>818920</td>\n",
       "      <td>0.1058</td>\n",
       "    </tr>\n",
       "    <tr>\n",
       "      <th>1252</th>\n",
       "      <td>2019</td>\n",
       "      <td>1</td>\n",
       "      <td>12</td>\n",
       "      <td>1</td>\n",
       "      <td>3281500.0</td>\n",
       "      <td>1348697</td>\n",
       "      <td>18218901</td>\n",
       "      <td>0.0740</td>\n",
       "    </tr>\n",
       "  </tbody>\n",
       "</table>\n",
       "</div>"
      ],
      "text/plain": [
       "      Year  Month  FIPS  Beverage    Gallons  Ethanol  Population  PerCapita\n",
       "1248  2019      1     2         1   112835.0    46375      591039     0.0785\n",
       "1249  2019      1     8         1   889500.0   365585     4791946     0.0763\n",
       "1250  2019      1     9         1   614817.0   252690     3019599     0.0837\n",
       "1251  2019      1    10         1   210789.0    86634      818920     0.1058\n",
       "1252  2019      1    12         1  3281500.0  1348697    18218901     0.0740"
      ]
     },
     "execution_count": 8,
     "metadata": {},
     "output_type": "execute_result"
    }
   ],
   "source": [
    "# the last two columns are mostly empty of data so they can be dropped using the pandas.DataFrame.drop method\n",
    "# I've left most of the columns for future use\n",
    "\n",
    "to_drop = ['PerCapita3yr',\n",
    "          'PctChange']\n",
    "\n",
    "df.drop(to_drop, inplace=True, axis=1)\n",
    "df.head()"
   ]
  },
  {
   "cell_type": "code",
   "execution_count": 9,
   "id": "8e8aafa8",
   "metadata": {},
   "outputs": [
    {
     "name": "stdout",
     "output_type": "stream",
     "text": [
      "      Year  Month  FIPS  Beverage     Gallons  Ethanol  Population  PerCapita\n",
      "1248  2019      1     2         1    112835.0    46375      591039     0.0785\n",
      "1249  2019      1     8         1    889500.0   365585     4791946     0.0763\n",
      "1250  2019      1     9         1    614817.0   252690     3019599     0.0837\n",
      "1251  2019      1    10         1    210789.0    86634      818920     0.1058\n",
      "1252  2019      1    12         1   3281500.0  1348697    18218901     0.0740\n",
      "...    ...    ...   ...       ...         ...      ...         ...        ...\n",
      "2894  2021      8    27         3  10841848.0   487883     4652447     0.1049\n",
      "2895  2021      8    29         3  11128509.0   500783     5093948     0.0983\n",
      "2896  2021      8    38         3   2069134.0    93111      620677     0.1500\n",
      "2897  2021      8    47         3  11625691.0   523156     5718921     0.0915\n",
      "2898  2021      8    48         3  58112092.0  2615044    23608900     0.1108\n",
      "\n",
      "[1248 rows x 8 columns]\n"
     ]
    }
   ],
   "source": [
    "# some of the rows have null entries and can be dropped as well\n",
    "\n",
    "df.dropna(inplace=True)\n",
    "print(df)"
   ]
  },
  {
   "cell_type": "code",
   "execution_count": 10,
   "id": "dd2dc714",
   "metadata": {},
   "outputs": [
    {
     "name": "stdout",
     "output_type": "stream",
     "text": [
      "      Year  Month  State  Beverage     Gallons  Ethanol  Population  PerCapita\n",
      "1248  2019      1      2         1    112835.0    46375      591039     0.0785\n",
      "1249  2019      1      8         1    889500.0   365585     4791946     0.0763\n",
      "1250  2019      1      9         1    614817.0   252690     3019599     0.0837\n",
      "1251  2019      1     10         1    210789.0    86634      818920     0.1058\n",
      "1252  2019      1     12         1   3281500.0  1348697    18218901     0.0740\n",
      "...    ...    ...    ...       ...         ...      ...         ...        ...\n",
      "2894  2021      8     27         3  10841848.0   487883     4652447     0.1049\n",
      "2895  2021      8     29         3  11128509.0   500783     5093948     0.0983\n",
      "2896  2021      8     38         3   2069134.0    93111      620677     0.1500\n",
      "2897  2021      8     47         3  11625691.0   523156     5718921     0.0915\n",
      "2898  2021      8     48         3  58112092.0  2615044    23608900     0.1108\n",
      "\n",
      "[1248 rows x 8 columns]\n"
     ]
    }
   ],
   "source": [
    "# Rename FIPS column to State, so that it's more clear. In the original file, FIPS is the Geographic ID code.\n",
    "\n",
    "df.rename(columns={\"FIPS\" : \"State\"}, inplace=True)\n",
    "print(df)"
   ]
  },
  {
   "cell_type": "code",
   "execution_count": 11,
   "id": "db2ec3c5",
   "metadata": {},
   "outputs": [
    {
     "name": "stdout",
     "output_type": "stream",
     "text": [
      "Year            int64\n",
      "Month           int64\n",
      "State           int64\n",
      "Beverage        int64\n",
      "Gallons         int64\n",
      "Ethanol         int64\n",
      "Population      int64\n",
      "PerCapita     float64\n",
      "dtype: object\n"
     ]
    }
   ],
   "source": [
    "# Let's convert Gallons into an integer, so it's easier to use that data in the future. The column was designated \n",
    "# as a float type since there were rows that had null entries\n",
    "\n",
    "df['Gallons'] = df['Gallons'].round().astype('int64')\n",
    "print(df.dtypes)"
   ]
  },
  {
   "cell_type": "code",
   "execution_count": 12,
   "id": "b95013f0",
   "metadata": {},
   "outputs": [
    {
     "name": "stdout",
     "output_type": "stream",
     "text": [
      "Year            int64\n",
      "Month           int64\n",
      "State          object\n",
      "Beverage       object\n",
      "Gallons         int64\n",
      "Ethanol         int64\n",
      "Population      int64\n",
      "PerCapita     float64\n",
      "dtype: object\n"
     ]
    }
   ],
   "source": [
    "# we also don't need the state or beverage as integers, so let's convert those to a string\n",
    "\n",
    "df['State'] = df['State'].astype('str')\n",
    "\n",
    "df['Beverage'] = df['Beverage'].astype('str')\n",
    "\n",
    "print(df.dtypes)"
   ]
  },
  {
   "cell_type": "code",
   "execution_count": 13,
   "id": "aa86d67f",
   "metadata": {},
   "outputs": [
    {
     "name": "stdout",
     "output_type": "stream",
     "text": [
      "['Alaska', 'Colorado', 'Connecticut', 'Delaware', 'Florida', 'Illinois', 'Kentucky', 'Massachusetts', 'Minnesota', 'Missouri', 'North Dakota', 'Tennessee', 'Texas']\n"
     ]
    }
   ],
   "source": [
    "# These are dictionaries for the State and Beverage columns, that are included in the Assets/ folder\n",
    "# in the Definitions.csv file\n",
    "\n",
    "statelist = ['Alaska','Colorado','Connecticut','Delaware','Florida','Illinois','Kentucky',\n",
    "             'Massachusetts','Minnesota','Missouri','North Dakota','Tennessee','Texas' ]\n",
    "print(statelist)"
   ]
  },
  {
   "cell_type": "code",
   "execution_count": 14,
   "id": "810daaa6",
   "metadata": {},
   "outputs": [
    {
     "name": "stdout",
     "output_type": "stream",
     "text": [
      "['spirits', 'wine', 'beer']\n"
     ]
    }
   ],
   "source": [
    "alclist = ['spirits','wine','beer']\n",
    "\n",
    "print(alclist)"
   ]
  },
  {
   "cell_type": "code",
   "execution_count": 15,
   "id": "2ddd1f73",
   "metadata": {},
   "outputs": [
    {
     "data": {
      "text/plain": [
       "<bound method NDFrame.head of       Year  Month         State Beverage   Gallons  Ethanol  Population  \\\n",
       "1248  2019      1        Alaska  spirits    112835    46375      591039   \n",
       "1249  2019      1      Colorado  spirits    889500   365585     4791946   \n",
       "1250  2019      1   Connecticut  spirits    614817   252690     3019599   \n",
       "1251  2019      1      Delaware  spirits    210789    86634      818920   \n",
       "1252  2019      1       Florida  spirits   3281500  1348697    18218901   \n",
       "...    ...    ...           ...      ...       ...      ...         ...   \n",
       "2894  2021      8     Minnesota     beer  10841848   487883     4652447   \n",
       "2895  2021      8      Missouri     beer  11128509   500783     5093948   \n",
       "2896  2021      8  North Dakota     beer   2069134    93111      620677   \n",
       "2897  2021      8     Tennessee     beer  11625691   523156     5718921   \n",
       "2898  2021      8         Texas     beer  58112092  2615044    23608900   \n",
       "\n",
       "      PerCapita  \n",
       "1248     0.0785  \n",
       "1249     0.0763  \n",
       "1250     0.0837  \n",
       "1251     0.1058  \n",
       "1252     0.0740  \n",
       "...         ...  \n",
       "2894     0.1049  \n",
       "2895     0.0983  \n",
       "2896     0.1500  \n",
       "2897     0.0915  \n",
       "2898     0.1108  \n",
       "\n",
       "[1248 rows x 8 columns]>"
      ]
     },
     "execution_count": 15,
     "metadata": {},
     "output_type": "execute_result"
    }
   ],
   "source": [
    "#for ease of use, since we've changed those columns to strings, we can go ahead and also change the \n",
    "#data in those columns\n",
    "\n",
    "df['Beverage'] = df['Beverage'].replace(['1', '2', '3'], ['spirits', 'wine', 'beer'])\n",
    "df['State'] = df['State'].replace(['2','8','9','10','12','17','21','25','27','29','38','47','48'], \n",
    "                                  ['Alaska','Colorado','Connecticut','Delaware','Florida','Illinois',\n",
    "                                   'Kentucky','Massachusetts','Minnesota','Missouri','North Dakota',\n",
    "                                   'Tennessee','Texas'])\n",
    "df.head\n"
   ]
  },
  {
   "cell_type": "markdown",
   "id": "358b7466",
   "metadata": {},
   "source": [
    "<h1> Data Analysis </h1>"
   ]
  },
  {
   "cell_type": "code",
   "execution_count": 16,
   "id": "6acb8a9f",
   "metadata": {},
   "outputs": [
    {
     "name": "stdout",
     "output_type": "stream",
     "text": [
      "The total gallons of alcohol sold between the years of 2019 - 2021 is 7013589746\n"
     ]
    }
   ],
   "source": [
    "# function to see total amount of gallons sold between years of 2019 - 2021\n",
    "\n",
    "totalgallons = df['Gallons'].sum()\n",
    "print('The total gallons of alcohol sold between the years of 2019 - 2021 is', totalgallons)\n"
   ]
  },
  {
   "cell_type": "code",
   "execution_count": 17,
   "id": "0196ae4d",
   "metadata": {},
   "outputs": [
    {
     "name": "stdout",
     "output_type": "stream",
     "text": [
      "Enter year (2019 through 2021):\n",
      "2021\n",
      "The total gallons of alcohol sold in 2021 is 1802155947\n"
     ]
    }
   ],
   "source": [
    "#function to see total amount of gallons sold, filtered by year\n",
    "print('Enter year (2019 through 2021):')\n",
    "useryear = int(input()) \n",
    "gallonsyear = df.loc[df['Year'] == useryear, 'Gallons'].sum()\n",
    "print('The total gallons of alcohol sold in', useryear, 'is', gallonsyear)"
   ]
  },
  {
   "cell_type": "code",
   "execution_count": 23,
   "id": "6aabf65d",
   "metadata": {},
   "outputs": [
    {
     "name": "stdout",
     "output_type": "stream",
     "text": [
      "['Alaska', 'Colorado', 'Connecticut', 'Delaware', 'Florida', 'Illinois', 'Kentucky', 'Massachusetts', 'Minnesota', 'Missouri', 'North Dakota', 'Tennessee', 'Texas']\n",
      "Enter state:\n",
      "Connecticut\n",
      "The total gallons of alcohol sold in this state is 200840373\n"
     ]
    }
   ],
   "source": [
    "# function to see total amount of gallons sold, filtered by state\n",
    "print(statelist)\n",
    "print('Enter state:' )\n",
    "userstate = input()\n",
    "stategallons = df.loc[df['State'] == userstate, 'Gallons'].sum()\n",
    "print('The total gallons of alcohol sold in this state is', stategallons)"
   ]
  },
  {
   "cell_type": "code",
   "execution_count": 26,
   "id": "bfa53a62",
   "metadata": {},
   "outputs": [
    {
     "name": "stdout",
     "output_type": "stream",
     "text": [
      "['spirits', 'wine', 'beer']\n",
      "Enter beverage:\n",
      "beer\n",
      "The total gallons of beer sold is 5625857866\n"
     ]
    }
   ],
   "source": [
    "# function to see total amount of gallons sold, filtered by type of beverage\n",
    "print(alclist)\n",
    "print('Enter beverage:' )\n",
    "userbev = input()\n",
    "bevtotal = df.loc[df['Beverage'] == userbev, 'Gallons'].sum()\n",
    "print('The total gallons of', userbev, 'sold is', bevtotal)\n"
   ]
  },
  {
   "cell_type": "code",
   "execution_count": null,
   "id": "d2223fc2",
   "metadata": {},
   "outputs": [
    {
     "name": "stdout",
     "output_type": "stream",
     "text": [
      "Enter year (2019 through 2021):\n"
     ]
    }
   ],
   "source": [
    "# function to see total amount of gallons sold, filtered by year, state and type of beverage; please refer to \n",
    "# statelist and alclist  \n",
    "\n",
    "def alcsales():\n",
    "    print('Enter year (2019 through 2021):')\n",
    "    useryear2 = int(input())\n",
    "\n",
    "    print('Enter state:')\n",
    "    userstate2 = input()\n",
    "\n",
    "    print('Enter beverage:')\n",
    "    userbev2 = input()\n",
    "    \n",
    "    gallonsfilt = df.loc[(df['Year'] == useryear2) & (df['State'] == userstate2) & (df['Beverage'] == userbev2),\n",
    "                    'Gallons'].sum()\n",
    "\n",
    "    print(gallonsfilt)\n",
    "\n",
    "alcsales()"
   ]
  },
  {
   "cell_type": "code",
   "execution_count": 44,
   "id": "6e5cdb85",
   "metadata": {},
   "outputs": [
    {
     "name": "stdout",
     "output_type": "stream",
     "text": [
      "5619863.578525641\n"
     ]
    }
   ],
   "source": [
    "#function to find mean of gallons sold per year  should use groupby****\n",
    " \n",
    "gallonavg = df['Gallons'].mean()\n",
    "\n",
    "print(gallonavg)\n"
   ]
  },
  {
   "cell_type": "code",
   "execution_count": null,
   "id": "50630e53",
   "metadata": {},
   "outputs": [],
   "source": [
    "# bar graph for states and gallons"
   ]
  },
  {
   "cell_type": "code",
   "execution_count": null,
   "id": "7bbc6428",
   "metadata": {},
   "outputs": [],
   "source": [
    "#  graph for states and type of beverage () sum of gallons sorted by type"
   ]
  }
 ],
 "metadata": {
  "kernelspec": {
   "display_name": "Python 3 (ipykernel)",
   "language": "python",
   "name": "python3"
  },
  "language_info": {
   "codemirror_mode": {
    "name": "ipython",
    "version": 3
   },
   "file_extension": ".py",
   "mimetype": "text/x-python",
   "name": "python",
   "nbconvert_exporter": "python",
   "pygments_lexer": "ipython3",
   "version": "3.9.12"
  }
 },
 "nbformat": 4,
 "nbformat_minor": 5
}
